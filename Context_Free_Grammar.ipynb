{
 "cells": [
  {
   "cell_type": "code",
   "execution_count": 1,
   "metadata": {},
   "outputs": [],
   "source": [
    "import nltk\n",
    "from nltk import *"
   ]
  },
  {
   "cell_type": "code",
   "execution_count": 2,
   "metadata": {},
   "outputs": [],
   "source": [
    "## write your own grammars\n",
    "grammar = nltk.CFG.fromstring(\"\"\"\n",
    "  S -> NP VP\n",
    "  NP -> NN | NNP CC NP | PRP MD | NNS | NNP | NNP J\n",
    "  VP -> VBZ DT J | VBD TO NP | VB DT R | VBP R J\n",
    "  J -> JJ NN | JJ NN R | JJ TO VB\n",
    "  R -> RB | RB R \n",
    "  NN -> \"Today\" | \"day\" | \"month\"\n",
    "  JJ -> \"nice\" | \"last\" | \"able\"\n",
    "  VBZ -> \"is\"\n",
    "  DT -> \"a\" | \"that\"\n",
    "  NNP -> \"Bob\" | \"Mary\" | \"France\"\n",
    "  CC -> \"and\"\n",
    "  VBD -> \"went\"\n",
    "  TO -> \"to\"\n",
    "  RB -> \"again\" | \"not\" | \"necessarily\"\n",
    "  VB -> \"say\" | \"fly\"\n",
    "  VBP -> \"are\"\n",
    "  MD -> \"can\"\n",
    "  NNS -> \"Birds\"\n",
    "  PRP -> \"You\"\n",
    "  \"\"\")"
   ]
  },
  {
   "cell_type": "code",
   "execution_count": 3,
   "metadata": {},
   "outputs": [],
   "source": [
    "rd_parser = nltk.RecursiveDescentParser(grammar)\n",
    "sentence_list = [\"Today is a nice day\",\"Bob and Mary went to France last month again\",\"You can say that again\",\"Birds are not necessarily able to fly\"]"
   ]
  },
  {
   "cell_type": "code",
   "execution_count": 4,
   "metadata": {},
   "outputs": [
    {
     "name": "stdout",
     "output_type": "stream",
     "text": [
      "Sentence : Today is a nice day\n",
      "(S (NP (NN Today)) (VP (VBZ is) (DT a) (J (JJ nice) (NN day))))\n",
      "**************************************************************************************\n",
      "Sentence : Bob and Mary went to France last month again\n",
      "(S\n",
      "  (NP (NNP Bob) (CC and) (NP (NNP Mary)))\n",
      "  (VP\n",
      "    (VBD went)\n",
      "    (TO to)\n",
      "    (NP (NNP France) (J (JJ last) (NN month) (R (RB again))))))\n",
      "**************************************************************************************\n",
      "Sentence : You can say that again\n",
      "(S (NP (PRP You) (MD can)) (VP (VB say) (DT that) (R (RB again))))\n",
      "**************************************************************************************\n",
      "Sentence : Birds are not necessarily able to fly\n",
      "(S\n",
      "  (NP (NNS Birds))\n",
      "  (VP\n",
      "    (VBP are)\n",
      "    (R (RB not) (R (RB necessarily)))\n",
      "    (J (JJ able) (TO to) (VB fly))))\n",
      "**************************************************************************************\n"
     ]
    }
   ],
   "source": [
    "for i in sentence_list:\n",
    "    sentlist = i.split()\n",
    "    trees = rd_parser.parse(sentlist)\n",
    "    treelist = list(trees)\n",
    "    for tree in treelist:\n",
    "        print(\"Sentence : \" + i)\n",
    "        print(tree)\n",
    "        print(\"**************************************************************************************\")"
   ]
  },
  {
   "cell_type": "code",
   "execution_count": 5,
   "metadata": {},
   "outputs": [],
   "source": [
    "sentence_list1 = [\"Birds went to France last month\",\"Bob and Mary are not nice Today\",\"You can went to Bob\"]"
   ]
  },
  {
   "cell_type": "code",
   "execution_count": 6,
   "metadata": {},
   "outputs": [
    {
     "name": "stdout",
     "output_type": "stream",
     "text": [
      "Sentence : Birds went to France last month\n",
      "(S\n",
      "  (NP (NNS Birds))\n",
      "  (VP (VBD went) (TO to) (NP (NNP France) (J (JJ last) (NN month)))))\n",
      "**************************************************************************************\n",
      "Sentence : Bob and Mary are not nice Today\n",
      "(S\n",
      "  (NP (NNP Bob) (CC and) (NP (NNP Mary)))\n",
      "  (VP (VBP are) (R (RB not)) (J (JJ nice) (NN Today))))\n",
      "**************************************************************************************\n",
      "Sentence : You can went to Bob\n",
      "(S (NP (PRP You) (MD can)) (VP (VBD went) (TO to) (NP (NNP Bob))))\n",
      "**************************************************************************************\n"
     ]
    }
   ],
   "source": [
    "for i in sentence_list1:\n",
    "    sentlist = i.split()\n",
    "    trees = rd_parser.parse(sentlist)\n",
    "    treelist = list(trees)\n",
    "    for tree in treelist:\n",
    "        print(\"Sentence : \" + i)\n",
    "        print(tree)\n",
    "        print(\"**************************************************************************************\")"
   ]
  },
  {
   "cell_type": "code",
   "execution_count": 7,
   "metadata": {},
   "outputs": [],
   "source": [
    "## write your own grammars\n",
    "probabilistic_grammar = nltk.PCFG.fromstring(\"\"\"\n",
    "  S -> NP VP [1.0]\n",
    "  NP -> NN [0.2] | NNP CC NP [0.2] | PRP MD [0.15] | NNS [0.15] | NNP [0.15] | NNP J [0.15]\n",
    "  VP -> VBZ DT J [0.25] | VBD TO NP [0.25] | VB DT R [0.25] | VBP R J [0.25]\n",
    "  J -> JJ NN [0.4] | JJ NN R [0.4] | JJ TO VB [0.2]\n",
    "  R -> RB [0.6] | RB R [0.4]\n",
    "  NN -> \"Today\" [0.3] | \"day\" [0.3]| \"month\" [0.4]\n",
    "  JJ -> \"nice\" [0.3] | \"last\" [0.3] | \"able\" [0.4]\n",
    "  VBZ -> \"is\" [1.0]\n",
    "  DT -> \"a\" [0.5] | \"that\" [0.5]\n",
    "  NNP -> \"Bob\" [0.3] | \"Mary\" [0.3] | \"France\" [0.4]\n",
    "  CC -> \"and\" [1.0]\n",
    "  VBD -> \"went\" [1.0]\n",
    "  TO -> \"to\" [1.0]\n",
    "  RB -> \"again\" [0.3] | \"not\" [0.3] | \"necessarily\" [0.4]\n",
    "  VB -> \"say\" [0.5] | \"fly\" [0.5]\n",
    "  VBP -> \"are\" [1.0]\n",
    "  MD -> \"can\" [1.0]\n",
    "  NNS -> \"Birds\" [1.0]\n",
    "  PRP -> \"You\" [1.0]\n",
    "  \"\"\")"
   ]
  },
  {
   "cell_type": "code",
   "execution_count": 8,
   "metadata": {},
   "outputs": [],
   "source": [
    "probability_parser = nltk.ViterbiParser(probabilistic_grammar)"
   ]
  },
  {
   "cell_type": "code",
   "execution_count": 9,
   "metadata": {},
   "outputs": [
    {
     "name": "stdout",
     "output_type": "stream",
     "text": [
      "Sentence : Today is a nice day\n",
      "(S\n",
      "  (NP (NN Today))\n",
      "  (VP (VBZ is) (DT a) (J (JJ nice) (NN day)))) (p=0.00027)\n",
      "**************************************************************************************\n",
      "Sentence : Bob and Mary went to France last month again\n",
      "(S\n",
      "  (NP (NNP Bob) (CC and) (NP (NNP Mary)))\n",
      "  (VP\n",
      "    (VBD went)\n",
      "    (TO to)\n",
      "    (NP\n",
      "      (NNP France)\n",
      "      (J (JJ last) (NN month) (R (RB again)))))) (p=3.4992e-07)\n",
      "**************************************************************************************\n",
      "Sentence : You can say that again\n",
      "(S\n",
      "  (NP (PRP You) (MD can))\n",
      "  (VP (VB say) (DT that) (R (RB again)))) (p=0.0016875)\n",
      "**************************************************************************************\n",
      "Sentence : Birds are not necessarily able to fly\n",
      "(S\n",
      "  (NP (NNS Birds))\n",
      "  (VP\n",
      "    (VBP are)\n",
      "    (R (RB not) (R (RB necessarily)))\n",
      "    (J (JJ able) (TO to) (VB fly)))) (p=4.32e-05)\n",
      "**************************************************************************************\n"
     ]
    }
   ],
   "source": [
    "for i in sentence_list:\n",
    "    sentlist = i.split()\n",
    "    trees = probability_parser.parse(sentlist)\n",
    "    treelist = list(trees)\n",
    "    for tree in treelist:\n",
    "        print(\"Sentence : \" + i)\n",
    "        print(tree)\n",
    "        print(\"**************************************************************************************\")"
   ]
  },
  {
   "cell_type": "code",
   "execution_count": null,
   "metadata": {},
   "outputs": [],
   "source": []
  }
 ],
 "metadata": {
  "kernelspec": {
   "display_name": "Python 3",
   "language": "python",
   "name": "python3"
  },
  "language_info": {
   "codemirror_mode": {
    "name": "ipython",
    "version": 3
   },
   "file_extension": ".py",
   "mimetype": "text/x-python",
   "name": "python",
   "nbconvert_exporter": "python",
   "pygments_lexer": "ipython3",
   "version": "3.6.6"
  }
 },
 "nbformat": 4,
 "nbformat_minor": 2
}
